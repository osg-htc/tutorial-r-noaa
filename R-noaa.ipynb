{
 "cells": [
  {
   "cell_type": "markdown",
   "id": "8e775206-3ae8-4610-9140-df1673e8c322",
   "metadata": {},
   "source": [
    "# Analyazing Datasets with R\n",
    "\n",
    "In this tutorial, we will be running an R script that analyzes historical weather data files from the [National Oceanic and Atmospheric Administration (NOAA)](https://www.ncei.noaa.gov/products/land-based-station/global-historical-climatology-network-daily). The script is designed to take in the data for a single weather station and output a figure that summarizes temperature patterns based on the season. \n",
    "\n",
    "Suppose we wanted to run the analysis on multiple stations of data. One option to tackle this problem would be a for-loop. However, a simple for-loop has two potential issues: \n",
    "- if the analysis script gets longer, then the overall runtime will increase\n",
    "- if we want to analyze a large number of stations, it will take longer\n",
    "\n",
    "This is where a high throughput computing approach could be beneficial. If we can scale out and send the analysis of each weather station to a different computer, using many at once, we can get the whole set of stations analyzed as quickly as possible. So our list of jobs will correspond to the list of weather stations to analyze. "
   ]
  },
  {
   "cell_type": "markdown",
   "id": "adc66183-7a62-4943-b20c-c470110db29b",
   "metadata": {},
   "source": [
    "## Workload Components\n",
    "\n",
    "Before thinking about how to run a list of jobs, let's assemble the\n",
    "components of our workload (data and software) and how they are going to be accessed. \n",
    "\n",
    "### Data\n",
    "\n",
    "The data we are using is hosted on Amazon Open Data and can be accessed using the Open Science Data Federation - a data delivery platform that runs alongside the OSPool to help move data to and from jobs. The OSDF URL that can be used to access the data for a particular weather station is: \n",
    "\n",
    "```\n",
    "osdf:///aws-opendata/us-east-1/noaa-ghcn-pds/csv/by_station/<weather_station_id>.csv\n",
    "```\n",
    "\n",
    "We have two options for accessing this data: \n",
    "- Download it in advance to this server\n",
    "- Download it as part of the job\n",
    "\n",
    "For this example, we will download it as part of the job, so we don't need to download it now. "
   ]
  },
  {
   "cell_type": "markdown",
   "id": "42fd3afa-8ac4-4ea3-bb2b-bcad411bf8f5",
   "metadata": {},
   "source": [
    "### Script\n",
    "\n",
    "Another part of our job will be the R script, `example.R` and related functions (`my_functions.R`).\n",
    "\n",
    "Note that the R script has a header at the top that will allow it to be run directly in the job. "
   ]
  },
  {
   "cell_type": "code",
   "execution_count": null,
   "id": "dcacbc47-4978-4029-9acd-66ffd517c5e1",
   "metadata": {},
   "outputs": [],
   "source": [
    "head -n 1 example.R"
   ]
  },
  {
   "cell_type": "markdown",
   "id": "67d2a156-28d3-410b-80c4-d8ef2c07c8e6",
   "metadata": {},
   "source": [
    "### Software Environment\n",
    "\n",
    "Finally, our job will need to bring along an R environment with the packages we need. We usually \n",
    "recommend using containers to do this, and there is one created for this tutorial that was created \n",
    "using apptainer and the `renv` R package. The URL to the container is provided in the submit file below. "
   ]
  },
  {
   "cell_type": "markdown",
   "id": "c73c0b8e-d524-47d0-9720-f0dee16a6e17",
   "metadata": {},
   "source": [
    "## Building Our List of Jobs\n",
    "\n",
    "Now we are ready to start building a list of jobs. Remember that our list of jobs will correspond to the list of weather stations to analyze and we want to run our R script for each weather station. \n",
    "\n",
    "To do this, we need to make two things:\n",
    "\n",
    "-   a list of weather stations\n",
    "-   a \"template\" for the jobs we want to run."
   ]
  },
  {
   "cell_type": "markdown",
   "id": "588154d6-3ac7-4a27-a0bf-e416b82016d0",
   "metadata": {},
   "source": [
    "### Creating the List\n",
    "\n",
    "The first thing we will do, is actually make the list! That is simple, as we already have a file with a list of \n",
    "all the weather stations: "
   ]
  },
  {
   "cell_type": "code",
   "execution_count": null,
   "id": "0f9a1586-edaf-4f1c-b739-7d25ea131329",
   "metadata": {},
   "outputs": [],
   "source": [
    "head ghcnd-stations.txt"
   ]
  },
  {
   "cell_type": "markdown",
   "id": "e10338c9-3c62-45fa-8536-e33bf14b9536",
   "metadata": {},
   "source": [
    "We could use the whole ghcnd-stations.txt file as our list, but for simplicity, we'll cut the full list down to about 10 stations. "
   ]
  },
  {
   "cell_type": "code",
   "execution_count": null,
   "id": "b95b155d-9b6b-4100-9751-346691e4538b",
   "metadata": {},
   "outputs": [],
   "source": [
    "head -n 126040 ghcnd-stations.txt | tail -n 10 | cut -d \" \" -f 1 > station_list.txt "
   ]
  },
  {
   "cell_type": "code",
   "execution_count": null,
   "id": "85e5d964-93d4-486d-afe9-7ecc9edf9126",
   "metadata": {},
   "outputs": [],
   "source": [
    "head station_list.txt"
   ]
  },
  {
   "cell_type": "markdown",
   "id": "de949654-ec92-4323-a0d5-bf7d89bedc7b",
   "metadata": {},
   "source": [
    "## Job Template\n",
    "\n",
    "To describe the actual job we want to run, we will create an HTCondor job submit file \n",
    "that will serve as a template for our list of jobs. This file needs to include the \n",
    "following information: \n",
    "\n",
    "- **Software environment** \n",
    "    - The job needs to bring along a software environment with needed dependencies (R and libraries)\n",
    "    - in our example, we will use an existing container with these tools installed. \n",
    "- **What the job should run**\n",
    "    - The command to be executed is listed in the `executable` and `arguments` lines of the submit file. \n",
    "    - For our example, the executable is the `example.R` script and the argument is the station ID. \n",
    "- **Inputs (both scripts and data)**\n",
    "    - All the inputs needed by the executable must also be transferred with the jobs. \n",
    "    - We need to include both the R helper script for the code and the weather station data file. \n",
    "- **Outputs**\n",
    "    - HTCondor will return the output figure by default, but it will end up in the main directory. The \n",
    "    `transfer_output_remaps` option will move the image to a `results` folder. \n",
    "- **Recording information about the job**\n",
    "    - As with many other schedulers, HTCondor provides options for recording the standard output and error \n",
    "    of a running job. Note below that these files are organized into their own directory, called `logs`. \n",
    "- **Resource needs**\n",
    "    - Default resources that should be set for every HTCondor job list include cores, memory (RAM) and local disk on the execution point. \n",
    "    - For this example, we will request 1 core, 2GB of RAM and 2GB of disk. \n",
    "\n",
    "Each of these items is reflected in the example submit file. Every line of the submit file (except the last one) \n",
    "should be thought of as the template for one job. At any point \n",
    "in this template where there is data that will be different for each job, we've placed a variable as a placeholder -- \n",
    "the variable format is `$(variable_name)`. "
   ]
  },
  {
   "cell_type": "code",
   "execution_count": null,
   "id": "28690d4a-bafb-4626-be4d-39ead9d35700",
   "metadata": {},
   "outputs": [],
   "source": [
    "cat example.sub"
   ]
  },
  {
   "cell_type": "markdown",
   "id": "7b624eb7-352f-49e3-9120-130fe4b6bcbb",
   "metadata": {},
   "source": [
    "## Submitting a Test\n",
    "\n",
    "The example above submits a list of one, defined in the queue statement at the end of the submit file: \n",
    "\n",
    "```\n",
    "queue station_id from (\n",
    "    USW00014837\n",
    ")\n",
    "```\n",
    "\n",
    "To submit this job as a test, run: "
   ]
  },
  {
   "cell_type": "code",
   "execution_count": null,
   "id": "ab8adc6c-f9fb-49d8-8ed7-993187bcb4c3",
   "metadata": {},
   "outputs": [],
   "source": [
    "condor_submit example.sub"
   ]
  },
  {
   "cell_type": "markdown",
   "id": "6aa2f600-7f33-46e7-9ef1-0d42569838b1",
   "metadata": {},
   "source": [
    "We can check on the status of our job in HTCondor's queue using:"
   ]
  },
  {
   "cell_type": "code",
   "execution_count": null,
   "id": "dcb50cb0-8f6a-422b-afa0-5909bafd17cf",
   "metadata": {},
   "outputs": [],
   "source": [
    "condor_q"
   ]
  },
  {
   "cell_type": "markdown",
   "id": "4d8668cc-04ff-4448-9c08-2d5b6223c763",
   "metadata": {},
   "source": [
    "Once completed, our images will appear in the `results` folder. "
   ]
  },
  {
   "cell_type": "code",
   "execution_count": null,
   "id": "d74c3802-d015-4208-a369-7ad939247853",
   "metadata": {},
   "outputs": [],
   "source": [
    "ls -lh results"
   ]
  },
  {
   "cell_type": "markdown",
   "id": "6b40a030-5e9d-4b20-88a7-b7e8c6fbe197",
   "metadata": {},
   "source": [
    "![](./results/USW00014837.png)"
   ]
  },
  {
   "cell_type": "markdown",
   "id": "be7dc894-aeff-44c4-83c6-8424c6bf1669",
   "metadata": {},
   "source": [
    "### Submitting a Full Job List\n",
    "\n",
    "If our test ran, submitting the whole list of jobs is easy!! The only thing we need to change is \n",
    "the last line of the submit file, from: \n",
    "\n",
    "```\n",
    "queue station_id from (\n",
    "    USW00014837\n",
    ")\n",
    "```\n",
    "which describes a list of one, to: \n",
    "\n",
    "```\n",
    "queue station_id from station_list.txt\n",
    "```\n",
    "\n",
    "Which will submit a job for every item in the `station_list.txt` file we made earlier. \n",
    "\n",
    "**Open the `example.sub` file and make that change!**\n",
    "\n",
    "The submission step is then the same as before: "
   ]
  },
  {
   "cell_type": "code",
   "execution_count": null,
   "id": "8299e9e2-df70-467b-b34d-d9e4ca62a3f0",
   "metadata": {},
   "outputs": [],
   "source": [
    "condor_submit example.sub"
   ]
  },
  {
   "cell_type": "markdown",
   "id": "ed02eed6-6cfe-42fa-a6bc-73657aaed8dd",
   "metadata": {},
   "source": [
    "And we can monitor with: "
   ]
  },
  {
   "cell_type": "code",
   "execution_count": null,
   "id": "5f5ad209-e448-4d72-bbe6-afaddd652247",
   "metadata": {},
   "outputs": [],
   "source": [
    "condor_q"
   ]
  },
  {
   "cell_type": "markdown",
   "id": "d054678b-9cba-43f5-8959-883d3a05c632",
   "metadata": {},
   "source": [
    "Once the jobs finish running, we should be able to view any of the images in the results directory! "
   ]
  },
  {
   "cell_type": "code",
   "execution_count": null,
   "id": "4bb72865-2600-402b-a36d-ed0f5300f2e9",
   "metadata": {},
   "outputs": [],
   "source": [
    "ls -lh results/"
   ]
  }
 ],
 "metadata": {
  "kernelspec": {
   "display_name": "Bash",
   "language": "bash",
   "name": "bash"
  },
  "language_info": {
   "codemirror_mode": "shell",
   "file_extension": ".sh",
   "mimetype": "text/x-sh",
   "name": "bash"
  }
 },
 "nbformat": 4,
 "nbformat_minor": 5
}
